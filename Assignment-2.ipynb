{
 "cells": [
  {
   "cell_type": "code",
   "execution_count": 2,
   "metadata": {},
   "outputs": [
    {
     "name": "stdout",
     "output_type": "stream",
     "text": [
      "4\n"
     ]
    }
   ],
   "source": [
    "def arrayPairSum(nums):\n",
    "    nums.sort()\n",
    "    max_sum = 0\n",
    "    \n",
    "    for i in range(0, len(nums), 2):\n",
    "        max_sum += nums[i]\n",
    "    \n",
    "    return max_sum\n",
    "nums = [1, 4, 3, 2]\n",
    "result = arrayPairSum(nums)\n",
    "print(result)\n"
   ]
  },
  {
   "cell_type": "code",
   "execution_count": 3,
   "metadata": {},
   "outputs": [
    {
     "name": "stdout",
     "output_type": "stream",
     "text": [
      "3\n"
     ]
    }
   ],
   "source": [
    "def distributeCandies(candyType):\n",
    "    max_types = len(set(candyType))\n",
    "    max_limit = len(candyType) // 2\n",
    "    \n",
    "    return min(max_types, max_limit)\n",
    "\n",
    "candyType = [1, 1, 2, 2, 3, 3]\n",
    "result = distributeCandies(candyType)\n",
    "print(result)\n"
   ]
  },
  {
   "cell_type": "code",
   "execution_count": 4,
   "metadata": {},
   "outputs": [
    {
     "name": "stdout",
     "output_type": "stream",
     "text": [
      "5\n"
     ]
    }
   ],
   "source": [
    "def findLHS(nums):\n",
    "    num_counts = {}\n",
    "    \n",
    "    # Count the occurrences of each number in nums\n",
    "    for num in nums:\n",
    "        if num in num_counts:\n",
    "            num_counts[num] += 1\n",
    "        else:\n",
    "            num_counts[num] = 1\n",
    "    \n",
    "    max_length = 0\n",
    "    \n",
    "    # Find the length of the longest harmonious subsequence\n",
    "    for num in num_counts:\n",
    "        if num + 1 in num_counts:\n",
    "            length = num_counts[num] + num_counts[num + 1]\n",
    "            max_length = max(max_length, length)\n",
    "    \n",
    "    return max_length\n",
    "\n",
    "\n",
    "nums = [1, 3, 2, 2, 5, 2, 3, 7]\n",
    "result = findLHS(nums)\n",
    "print(result)\n"
   ]
  },
  {
   "cell_type": "code",
   "execution_count": 5,
   "metadata": {},
   "outputs": [
    {
     "name": "stdout",
     "output_type": "stream",
     "text": [
      "True\n"
     ]
    }
   ],
   "source": [
    "def canPlaceFlowers(flowerbed, n):\n",
    "    length = len(flowerbed)\n",
    "    count = 0\n",
    "    i = 0\n",
    "    \n",
    "    while i < length:\n",
    "        if flowerbed[i] == 0 and (i == 0 or flowerbed[i-1] == 0) and (i == length-1 or flowerbed[i+1] == 0):\n",
    "            flowerbed[i] = 1\n",
    "            count += 1\n",
    "            i += 1\n",
    "        if count >= n:\n",
    "            return True\n",
    "        i += 1\n",
    "    \n",
    "    return False\n",
    "flowerbed = [1, 0, 0, 0, 1]\n",
    "n = 1\n",
    "result = canPlaceFlowers(flowerbed, n)\n",
    "print(result)\n"
   ]
  },
  {
   "cell_type": "code",
   "execution_count": 6,
   "metadata": {},
   "outputs": [
    {
     "name": "stdout",
     "output_type": "stream",
     "text": [
      "6\n"
     ]
    }
   ],
   "source": [
    "def maximumProduct(nums):\n",
    "    nums.sort()\n",
    "    \n",
    "    # Case 1: All positive numbers\n",
    "    product1 = nums[-1] * nums[-2] * nums[-3]\n",
    "    \n",
    "    # Case 2: Two negative numbers and one positive number\n",
    "    product2 = nums[0] * nums[1] * nums[-1]\n",
    "    \n",
    "    # Return the maximum product\n",
    "    return max(product1, product2)\n",
    "nums = [1, 2, 3]\n",
    "result = maximumProduct(nums)\n",
    "print(result)\n"
   ]
  },
  {
   "cell_type": "code",
   "execution_count": 7,
   "metadata": {},
   "outputs": [
    {
     "name": "stdout",
     "output_type": "stream",
     "text": [
      "4\n"
     ]
    }
   ],
   "source": [
    "def search(nums, target):\n",
    "    left = 0\n",
    "    right = len(nums) - 1\n",
    "    \n",
    "    while left <= right:\n",
    "        mid = left + (right - left) // 2\n",
    "        \n",
    "        if nums[mid] == target:\n",
    "            return mid\n",
    "        elif nums[mid] < target:\n",
    "            left = mid + 1\n",
    "        else:\n",
    "            right = mid - 1\n",
    "    \n",
    "    return -1\n",
    "nums = [-1, 0, 3, 5, 9, 12]\n",
    "target = 9\n",
    "result = search(nums, target)\n",
    "print(result)\n"
   ]
  },
  {
   "cell_type": "code",
   "execution_count": 8,
   "metadata": {},
   "outputs": [
    {
     "name": "stdout",
     "output_type": "stream",
     "text": [
      "True\n"
     ]
    }
   ],
   "source": [
    "def isMonotonic(nums):\n",
    "    is_increasing = True\n",
    "    is_decreasing = True\n",
    "    \n",
    "    for i in range(1, len(nums)):\n",
    "        if nums[i] < nums[i-1]:\n",
    "            is_increasing = False\n",
    "        if nums[i] > nums[i-1]:\n",
    "            is_decreasing = False\n",
    "    \n",
    "    return is_increasing or is_decreasing\n",
    "nums = [1, 2, 2, 3]\n",
    "result = isMonotonic(nums)\n",
    "print(result)\n"
   ]
  },
  {
   "cell_type": "code",
   "execution_count": 9,
   "metadata": {},
   "outputs": [
    {
     "name": "stdout",
     "output_type": "stream",
     "text": [
      "0\n"
     ]
    }
   ],
   "source": [
    "def minimumScore(nums, k):\n",
    "    nums.sort()\n",
    "    min_score = nums[-1] - nums[0]\n",
    "    \n",
    "    for i in range(1, len(nums)):\n",
    "        high = max(nums[i-1] + k, nums[-1] - k)\n",
    "        low = min(nums[0] + k, nums[i] - k)\n",
    "        min_score = min(min_score, high - low)\n",
    "    \n",
    "    return min_score\n",
    "nums = [1]\n",
    "k = 0\n",
    "result = minimumScore(nums, k)\n",
    "print(result)\n"
   ]
  },
  {
   "cell_type": "code",
   "execution_count": null,
   "metadata": {},
   "outputs": [],
   "source": []
  },
  {
   "cell_type": "code",
   "execution_count": null,
   "metadata": {},
   "outputs": [],
   "source": []
  }
 ],
 "metadata": {
  "kernelspec": {
   "display_name": "Python 3",
   "language": "python",
   "name": "python3"
  },
  "language_info": {
   "codemirror_mode": {
    "name": "ipython",
    "version": 3
   },
   "file_extension": ".py",
   "mimetype": "text/x-python",
   "name": "python",
   "nbconvert_exporter": "python",
   "pygments_lexer": "ipython3",
   "version": "3.10.2"
  },
  "orig_nbformat": 4
 },
 "nbformat": 4,
 "nbformat_minor": 2
}
