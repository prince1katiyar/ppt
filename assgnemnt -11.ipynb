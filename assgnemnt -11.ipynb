{
 "cells": [
  {
   "cell_type": "code",
   "execution_count": 1,
   "metadata": {},
   "outputs": [
    {
     "name": "stdout",
     "output_type": "stream",
     "text": [
      "Square root: 4\n"
     ]
    }
   ],
   "source": [
    "def mySqrt(x):\n",
    "    if x == 0:\n",
    "        return 0\n",
    "\n",
    "    left = 1\n",
    "    right = x\n",
    "\n",
    "    while left <= right:\n",
    "        mid = left + (right - left) // 2\n",
    "        square = mid * mid\n",
    "\n",
    "        if square == x:\n",
    "            return mid\n",
    "        elif square < x:\n",
    "            left = mid + 1\n",
    "        else:\n",
    "            right = mid - 1\n",
    "\n",
    "    return right\n",
    "\n",
    "\n",
    "# Example usage:\n",
    "number = 16\n",
    "result = mySqrt(number)\n",
    "print(\"Square root:\", result)\n"
   ]
  },
  {
   "cell_type": "code",
   "execution_count": 2,
   "metadata": {},
   "outputs": [
    {
     "name": "stdout",
     "output_type": "stream",
     "text": [
      "Peak element index: 2\n"
     ]
    }
   ],
   "source": [
    "def findPeakElement(nums):\n",
    "    left = 0\n",
    "    right = len(nums) - 1\n",
    "\n",
    "    while left < right:\n",
    "        mid = left + (right - left) // 2\n",
    "\n",
    "        if nums[mid] < nums[mid + 1]:\n",
    "            left = mid + 1\n",
    "        else:\n",
    "            right = mid\n",
    "\n",
    "    return left\n",
    "\n",
    "\n",
    "# Example usage:\n",
    "array = [1, 2, 3, 1]\n",
    "result = findPeakElement(array)\n",
    "print(\"Peak element index:\", result)\n"
   ]
  },
  {
   "cell_type": "code",
   "execution_count": 3,
   "metadata": {},
   "outputs": [
    {
     "name": "stdout",
     "output_type": "stream",
     "text": [
      "Missing number: 2\n"
     ]
    }
   ],
   "source": [
    "def missingNumber(nums):\n",
    "    n = len(nums)\n",
    "    total_sum = (n * (n + 1)) // 2\n",
    "\n",
    "    array_sum = sum(nums)\n",
    "\n",
    "    return total_sum - array_sum\n",
    "\n",
    "\n",
    "# Example usage:\n",
    "array = [3, 0, 1]\n",
    "result = missingNumber(array)\n",
    "print(\"Missing number:\", result)\n"
   ]
  },
  {
   "cell_type": "code",
   "execution_count": 4,
   "metadata": {},
   "outputs": [
    {
     "name": "stdout",
     "output_type": "stream",
     "text": [
      "Repeated number: 2\n"
     ]
    }
   ],
   "source": [
    "def findDuplicate(nums):\n",
    "    slow = nums[0]\n",
    "    fast = nums[0]\n",
    "\n",
    "    # Move slow by one step and fast by two steps until they meet\n",
    "    while True:\n",
    "        slow = nums[slow]\n",
    "        fast = nums[nums[fast]]\n",
    "        if slow == fast:\n",
    "            break\n",
    "\n",
    "    # Move slow back to the start and move both slow and fast by one step until they meet\n",
    "    slow = nums[0]\n",
    "    while slow != fast:\n",
    "        slow = nums[slow]\n",
    "        fast = nums[fast]\n",
    "\n",
    "    return slow\n",
    "\n",
    "\n",
    "# Example usage:\n",
    "array = [1, 3, 4, 2, 2]\n",
    "result = findDuplicate(array)\n",
    "print(\"Repeated number:\", result)\n"
   ]
  },
  {
   "cell_type": "code",
   "execution_count": 5,
   "metadata": {},
   "outputs": [
    {
     "name": "stdout",
     "output_type": "stream",
     "text": [
      "Intersection: [2]\n"
     ]
    }
   ],
   "source": [
    "def intersection(nums1, nums2):\n",
    "    set1 = set(nums1)\n",
    "    set2 = set(nums2)\n",
    "\n",
    "    intersection_set = set1.intersection(set2)\n",
    "\n",
    "    return list(intersection_set)\n",
    "\n",
    "\n",
    "# Example usage:\n",
    "array1 = [1, 2, 2, 1]\n",
    "array2 = [2, 2, 3]\n",
    "result = intersection(array1, array2)\n",
    "print(\"Intersection:\", result)\n"
   ]
  },
  {
   "cell_type": "code",
   "execution_count": 6,
   "metadata": {},
   "outputs": [
    {
     "name": "stdout",
     "output_type": "stream",
     "text": [
      "Minimum element: 0\n"
     ]
    }
   ],
   "source": [
    "def findMin(nums):\n",
    "    left = 0\n",
    "    right = len(nums) - 1\n",
    "\n",
    "    while left < right:\n",
    "        mid = left + (right - left) // 2\n",
    "\n",
    "        # If mid element is greater than the rightmost element,\n",
    "        # the minimum element is in the right half.\n",
    "        if nums[mid] > nums[right]:\n",
    "            left = mid + 1\n",
    "        # If mid element is less than the rightmost element,\n",
    "        # the minimum element is in the left half or is the mid element.\n",
    "        else:\n",
    "            right = mid\n",
    "\n",
    "    # When the while loop terminates, left and right will be equal,\n",
    "    # and it will point to the minimum element.\n",
    "    return nums[left]\n",
    "\n",
    "\n",
    "# Example usage:\n",
    "array = [4, 5, 6, 7, 0, 1, 2]\n",
    "result = findMin(array)\n",
    "print(\"Minimum element:\", result)\n"
   ]
  },
  {
   "cell_type": "code",
   "execution_count": 7,
   "metadata": {},
   "outputs": [
    {
     "name": "stdout",
     "output_type": "stream",
     "text": [
      "Starting and Ending Positions: [3, 4]\n"
     ]
    }
   ],
   "source": [
    "def searchRange(nums, target):\n",
    "    # Find the starting position\n",
    "    start = findPosition(nums, target, True)\n",
    "    # Find the ending position\n",
    "    end = findPosition(nums, target, False)\n",
    "    # Return the result\n",
    "    return [start, end]\n",
    "\n",
    "\n",
    "def findPosition(nums, target, isStart):\n",
    "    position = -1\n",
    "    left = 0\n",
    "    right = len(nums) - 1\n",
    "\n",
    "    while left <= right:\n",
    "        mid = left + (right - left) // 2\n",
    "\n",
    "        if nums[mid] == target:\n",
    "            position = mid\n",
    "            if isStart:\n",
    "                right = mid - 1\n",
    "            else:\n",
    "                left = mid + 1\n",
    "        elif nums[mid] < target:\n",
    "            left = mid + 1\n",
    "        else:\n",
    "            right = mid - 1\n",
    "\n",
    "    return position\n",
    "\n",
    "\n",
    "# Example usage:\n",
    "array = [5, 7, 7, 8, 8, 10]\n",
    "target = 8\n",
    "result = searchRange(array, target)\n",
    "print(\"Starting and Ending Positions:\", result)\n"
   ]
  },
  {
   "cell_type": "code",
   "execution_count": 8,
   "metadata": {},
   "outputs": [
    {
     "name": "stdout",
     "output_type": "stream",
     "text": [
      "Intersection: [2, 2]\n"
     ]
    }
   ],
   "source": [
    "from collections import Counter\n",
    "\n",
    "def intersect(nums1, nums2):\n",
    "    # Create dictionaries to store element counts\n",
    "    count1 = Counter(nums1)\n",
    "    count2 = Counter(nums2)\n",
    "    \n",
    "    # Create an empty list to store the intersection\n",
    "    intersection = []\n",
    "    \n",
    "    # Iterate over the elements in nums1\n",
    "    for num in nums1:\n",
    "        # Check if the element exists in nums2 and has a non-zero count\n",
    "        if num in count2 and count2[num] > 0:\n",
    "            # Append the element to the intersection list\n",
    "            intersection.append(num)\n",
    "            \n",
    "            # Decrement the count of the element in both dictionaries\n",
    "            count2[num] -= 1\n",
    "            count1[num] -= 1\n",
    "    \n",
    "    # Return the intersection list\n",
    "    return intersection\n",
    "\n",
    "\n",
    "# Example usage:\n",
    "nums1 = [1, 2, 2, 1]\n",
    "nums2 = [2, 2]\n",
    "result = intersect(nums1, nums2)\n",
    "print(\"Intersection:\", result)\n"
   ]
  },
  {
   "cell_type": "code",
   "execution_count": null,
   "metadata": {},
   "outputs": [],
   "source": []
  },
  {
   "cell_type": "code",
   "execution_count": null,
   "metadata": {},
   "outputs": [],
   "source": []
  },
  {
   "cell_type": "code",
   "execution_count": null,
   "metadata": {},
   "outputs": [],
   "source": []
  }
 ],
 "metadata": {
  "kernelspec": {
   "display_name": "base",
   "language": "python",
   "name": "python3"
  },
  "language_info": {
   "codemirror_mode": {
    "name": "ipython",
    "version": 3
   },
   "file_extension": ".py",
   "mimetype": "text/x-python",
   "name": "python",
   "nbconvert_exporter": "python",
   "pygments_lexer": "ipython3",
   "version": "3.10.9"
  },
  "orig_nbformat": 4
 },
 "nbformat": 4,
 "nbformat_minor": 2
}
