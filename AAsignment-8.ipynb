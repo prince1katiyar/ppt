{
 "cells": [
  {
   "cell_type": "code",
   "execution_count": 2,
   "metadata": {},
   "outputs": [
    {
     "name": "stdout",
     "output_type": "stream",
     "text": [
      "231\n"
     ]
    }
   ],
   "source": [
    "def minimumDeleteSum(s1, s2):\n",
    "    m, n = len(s1), len(s2)\n",
    "    dp = [[0] * (n + 1) for _ in range(m + 1)]\n",
    "    \n",
    "    for i in range(1, m + 1):\n",
    "        dp[i][0] = dp[i - 1][0] + ord(s1[i - 1])\n",
    "    \n",
    "    for j in range(1, n + 1):\n",
    "        dp[0][j] = dp[0][j - 1] + ord(s2[j - 1])\n",
    "    \n",
    "    for i in range(1, m + 1):\n",
    "        for j in range(1, n + 1):\n",
    "            if s1[i - 1] == s2[j - 1]:\n",
    "                dp[i][j] = dp[i - 1][j - 1]\n",
    "            else:\n",
    "                dp[i][j] = min(dp[i - 1][j] + ord(s1[i - 1]), dp[i][j - 1] + ord(s2[j - 1]))\n",
    "    \n",
    "    return dp[m][n]\n",
    "s1 = \"sea\"\n",
    "s2 = \"eat\"\n",
    "print(minimumDeleteSum(s1, s2))  # Output: 231\n"
   ]
  },
  {
   "cell_type": "code",
   "execution_count": 3,
   "metadata": {},
   "outputs": [
    {
     "name": "stdout",
     "output_type": "stream",
     "text": [
      "True\n"
     ]
    }
   ],
   "source": [
    "def checkValidString(s):\n",
    "    min_open = 0\n",
    "    max_open = 0\n",
    "    \n",
    "    for char in s:\n",
    "        if char == '(':\n",
    "            min_open += 1\n",
    "            max_open += 1\n",
    "        elif char == ')':\n",
    "            min_open = max(min_open - 1, 0)\n",
    "            max_open -= 1\n",
    "            if max_open < 0:\n",
    "                return False\n",
    "        elif char == '*':\n",
    "            min_open = max(min_open - 1, 0)\n",
    "            max_open += 1\n",
    "    \n",
    "    return min_open == 0\n",
    "s = \"()\"\n",
    "print(checkValidString(s))  # Output: True\n"
   ]
  },
  {
   "cell_type": "code",
   "execution_count": 4,
   "metadata": {},
   "outputs": [
    {
     "name": "stdout",
     "output_type": "stream",
     "text": [
      "2\n"
     ]
    }
   ],
   "source": [
    "def minDistance(word1, word2):\n",
    "    m, n = len(word1), len(word2)\n",
    "    dp = [[0] * (n + 1) for _ in range(m + 1)]\n",
    "    \n",
    "    for i in range(m + 1):\n",
    "        dp[i][0] = i\n",
    "    \n",
    "    for j in range(n + 1):\n",
    "        dp[0][j] = j\n",
    "    \n",
    "    for i in range(1, m + 1):\n",
    "        for j in range(1, n + 1):\n",
    "            if word1[i - 1] == word2[j - 1]:\n",
    "                dp[i][j] = dp[i - 1][j - 1]\n",
    "            else:\n",
    "                dp[i][j] = min(dp[i - 1][j], dp[i][j - 1]) + 1\n",
    "    \n",
    "    return dp[m][n]\n",
    "\n",
    "word1 = \"sea\"\n",
    "word2 = \"eat\"\n",
    "print(minDistance(word1, word2))  # Output: 2\n"
   ]
  },
  {
   "cell_type": "code",
   "execution_count": 5,
   "metadata": {},
   "outputs": [],
   "source": [
    "class TreeNode:\n",
    "    def __init__(self, val=0, left=None, right=None):\n",
    "        self.val = val\n",
    "        self.left = left\n",
    "        self.right = right\n",
    "\n",
    "def str2tree(s):\n",
    "    if not s:\n",
    "        return None\n",
    "\n",
    "    # Find the index of the first \"(\"\n",
    "    i = s.find(\"(\")\n",
    "\n",
    "    # If \"(\" is not found, the entire string represents the root value\n",
    "    if i == -1:\n",
    "        return TreeNode(int(s))\n",
    "\n",
    "    # Create the root node with the value before \"(\"\n",
    "    root = TreeNode(int(s[:i]))\n",
    "\n",
    "    # Count parentheses to find the substring for left and right subtrees\n",
    "    count = 0\n",
    "    j = i\n",
    "    while j < len(s):\n",
    "        if s[j] == \"(\":\n",
    "            count += 1\n",
    "        elif s[j] == \")\":\n",
    "            count -= 1\n",
    "\n",
    "        if count == 0:\n",
    "            break\n",
    "\n",
    "        j += 1\n",
    "\n",
    "    # Recursive calls to construct left and right subtrees\n",
    "    root.left = str2tree(s[i + 1 : j])\n",
    "    root.right = str2tree(s[j + 2 : -1])\n",
    "\n",
    "    return root\n",
    "s = \"4(2(3)(1))(6(5))\"\n",
    "root = str2tree(s)\n"
   ]
  },
  {
   "cell_type": "code",
   "execution_count": 6,
   "metadata": {},
   "outputs": [],
   "source": [
    "def compress(chars):\n",
    "    n = len(chars)  # Length of the input array\n",
    "    i = 0  # Pointer to iterate through the input array\n",
    "    count = 1  # Counter for consecutive repeating characters\n",
    "\n",
    "    for j in range(1, n):\n",
    "        if chars[j] == chars[j - 1]:\n",
    "            count += 1\n",
    "        else:\n",
    "            chars[i] = chars[j - 1]  # Store the character\n",
    "\n",
    "            # If the count is greater than 1, store the count\n",
    "            if count > 1:\n",
    "                count_str = str(count)\n",
    "                for k in range(len(count_str)):\n",
    "                    chars[i + k + 1] = count_str[k]\n",
    "                i += len(count_str)\n",
    "\n",
    "            i += 1  # Move the pointer to the next position\n",
    "            count = 1  # Reset the counter\n",
    "\n",
    "    chars[i] = chars[n - 1]  # Store the last character\n",
    "\n",
    "    # If the count is greater than 1, store the count\n",
    "    if count > 1:\n",
    "        count_str = str(count)\n",
    "        for k in range(len(count_str)):\n",
    "            chars[i + k + 1] = count_str[k]\n",
    "        i += len(count_str)\n",
    "\n",
    "    # Return the new length of the compressed array\n",
    "    return i + 1\n",
    "chars = [\"a\", \"a\", \"b\", \"b\", \"c\", \"c\", \"c\"]\n",
    "new_length = compress(chars)\n"
   ]
  },
  {
   "cell_type": "code",
   "execution_count": 7,
   "metadata": {},
   "outputs": [
    {
     "name": "stdout",
     "output_type": "stream",
     "text": [
      "[0, 6]\n"
     ]
    }
   ],
   "source": [
    "from collections import Counter\n",
    "\n",
    "def findAnagrams(s, p):\n",
    "    indices = []\n",
    "    n = len(s)\n",
    "    m = len(p)\n",
    "    if n < m:\n",
    "        return indices\n",
    "\n",
    "    p_count = Counter(p)\n",
    "    s_count = Counter()\n",
    "\n",
    "    # Initialize the sliding window\n",
    "    for i in range(m):\n",
    "        s_count[s[i]] += 1\n",
    "\n",
    "    # Slide the window across the string s\n",
    "    for i in range(n - m + 1):\n",
    "        # Check if the current window is an anagram of p\n",
    "        if s_count == p_count:\n",
    "            indices.append(i)\n",
    "\n",
    "        # Update the sliding window by removing the leftmost character\n",
    "        s_count[s[i]] -= 1\n",
    "        if s_count[s[i]] == 0:\n",
    "            del s_count[s[i]]\n",
    "\n",
    "        # Add the next character to the sliding window\n",
    "        if i + m < n:\n",
    "            s_count[s[i + m]] += 1\n",
    "\n",
    "    return indices\n",
    "s = \"cbaebabacd\"\n",
    "p = \"abc\"\n",
    "indices = findAnagrams(s, p)\n",
    "print(indices)\n"
   ]
  },
  {
   "cell_type": "code",
   "execution_count": 8,
   "metadata": {},
   "outputs": [
    {
     "name": "stdout",
     "output_type": "stream",
     "text": [
      "aaabcbc\n"
     ]
    }
   ],
   "source": [
    "def decodeString(s):\n",
    "    stack = []\n",
    "    curr_str = \"\"\n",
    "    curr_num = 0\n",
    "\n",
    "    for char in s:\n",
    "        if char.isdigit():\n",
    "            curr_num = curr_num * 10 + int(char)\n",
    "        elif char == \"[\":\n",
    "            stack.append(curr_str)\n",
    "            stack.append(curr_num)\n",
    "            curr_str = \"\"\n",
    "            curr_num = 0\n",
    "        elif char == \"]\":\n",
    "            num = stack.pop()\n",
    "            prev_str = stack.pop()\n",
    "            curr_str = prev_str + num * curr_str\n",
    "        else:\n",
    "            curr_str += char\n",
    "\n",
    "    return curr_str\n",
    "s = \"3[a]2[bc]\"\n",
    "decoded_string = decodeString(s)\n",
    "print(decoded_string)\n"
   ]
  },
  {
   "cell_type": "code",
   "execution_count": 9,
   "metadata": {},
   "outputs": [
    {
     "name": "stdout",
     "output_type": "stream",
     "text": [
      "True\n"
     ]
    }
   ],
   "source": [
    "def buddyStrings(s, goal):\n",
    "    if len(s) != len(goal):\n",
    "        return False\n",
    "\n",
    "    if s == goal:\n",
    "        # Check if there are any duplicate characters in s\n",
    "        return len(set(s)) < len(s)\n",
    "\n",
    "    mismatched = []\n",
    "    for i in range(len(s)):\n",
    "        if s[i] != goal[i]:\n",
    "            mismatched.append((s[i], goal[i]))\n",
    "\n",
    "    return len(mismatched) == 2 and mismatched[0] == mismatched[1][::-1]\n",
    "s = \"ab\"\n",
    "goal = \"ba\"\n",
    "result = buddyStrings(s, goal)\n",
    "print(result)\n"
   ]
  },
  {
   "cell_type": "code",
   "execution_count": null,
   "metadata": {},
   "outputs": [],
   "source": []
  },
  {
   "cell_type": "code",
   "execution_count": null,
   "metadata": {},
   "outputs": [],
   "source": []
  }
 ],
 "metadata": {
  "kernelspec": {
   "display_name": "Python 3",
   "language": "python",
   "name": "python3"
  },
  "language_info": {
   "codemirror_mode": {
    "name": "ipython",
    "version": 3
   },
   "file_extension": ".py",
   "mimetype": "text/x-python",
   "name": "python",
   "nbconvert_exporter": "python",
   "pygments_lexer": "ipython3",
   "version": "3.10.2"
  },
  "orig_nbformat": 4
 },
 "nbformat": 4,
 "nbformat_minor": 2
}
