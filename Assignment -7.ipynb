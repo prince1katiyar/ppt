{
 "cells": [
  {
   "cell_type": "code",
   "execution_count": 1,
   "metadata": {},
   "outputs": [
    {
     "name": "stdout",
     "output_type": "stream",
     "text": [
      "True\n"
     ]
    }
   ],
   "source": [
    "def isIsomorphic(s, t):\n",
    "    if len(s) != len(t):\n",
    "        return False\n",
    "    \n",
    "    mapping = {}\n",
    "    mapped_chars = set()\n",
    "    \n",
    "    for i in range(len(s)):\n",
    "        char_s = s[i]\n",
    "        char_t = t[i]\n",
    "        \n",
    "        if char_s in mapping:\n",
    "            if mapping[char_s] != char_t:\n",
    "                return False\n",
    "        else:\n",
    "            if char_t in mapped_chars:\n",
    "                return False\n",
    "            mapping[char_s] = char_t\n",
    "            mapped_chars.add(char_t)\n",
    "    \n",
    "    return True\n",
    "\n",
    "# Example usage\n",
    "s = \"egg\"\n",
    "t = \"add\"\n",
    "print(isIsomorphic(s, t))\n"
   ]
  },
  {
   "cell_type": "code",
   "execution_count": 2,
   "metadata": {},
   "outputs": [
    {
     "name": "stdout",
     "output_type": "stream",
     "text": [
      "True\n"
     ]
    }
   ],
   "source": [
    "def isStrobogrammatic(num):\n",
    "    mapping = {'0': '0', '1': '1', '6': '9', '8': '8', '9': '6'}\n",
    "    left, right = 0, len(num) - 1\n",
    "    while left <= right:\n",
    "        if num[left] not in mapping or num[right] not in mapping or mapping[num[left]] != num[right]:\n",
    "            return False\n",
    "        left += 1\n",
    "        right -= 1\n",
    "    return True\n",
    "\n",
    "num = \"69\"\n",
    "print(isStrobogrammatic(num)) "
   ]
  },
  {
   "cell_type": "code",
   "execution_count": 3,
   "metadata": {},
   "outputs": [
    {
     "name": "stdout",
     "output_type": "stream",
     "text": [
      "134\n"
     ]
    }
   ],
   "source": [
    "def addStrings(num1, num2):\n",
    "    i, j = len(num1) - 1, len(num2) - 1\n",
    "    carry = 0\n",
    "    result = \"\"\n",
    "\n",
    "    while i >= 0 or j >= 0:\n",
    "        digit1 = int(num1[i]) if i >= 0 else 0\n",
    "        digit2 = int(num2[j]) if j >= 0 else 0\n",
    "\n",
    "        temp_sum = digit1 + digit2 + carry\n",
    "        carry = temp_sum // 10\n",
    "        result = str(temp_sum % 10) + result\n",
    "\n",
    "        i -= 1\n",
    "        j -= 1\n",
    "\n",
    "    if carry > 0:\n",
    "        result = str(carry) + result\n",
    "\n",
    "    return result\n",
    "\n",
    "\n",
    "num1 = \"11\"\n",
    "num2 = \"123\"\n",
    "print(addStrings(num1, num2))"
   ]
  },
  {
   "cell_type": "code",
   "execution_count": 4,
   "metadata": {},
   "outputs": [
    {
     "name": "stdout",
     "output_type": "stream",
     "text": [
      "s'teL ekat edoCteeL tsetnoc\n"
     ]
    }
   ],
   "source": [
    "def reverseWords(s):\n",
    "    words = s.split()  # Split the string into words\n",
    "    reversed_words = [word[::-1] for word in words]  # Reverse each word\n",
    "    reversed_sentence = ' '.join(reversed_words)  # Join the reversed words with whitespace\n",
    "    return reversed_sentence\n",
    "\n",
    "\n",
    "s = \"Let's take LeetCode contest\"\n",
    "print(reverseWords(s)) "
   ]
  },
  {
   "cell_type": "code",
   "execution_count": 5,
   "metadata": {},
   "outputs": [
    {
     "name": "stdout",
     "output_type": "stream",
     "text": [
      "bacdfeg\n"
     ]
    }
   ],
   "source": [
    "def reverseStr(s, k):\n",
    "    char_list = list(s)\n",
    "    n = len(char_list)\n",
    "\n",
    "    for i in range(0, n, 2*k):\n",
    "        left = i\n",
    "        right = min(i + k - 1, n - 1)\n",
    "\n",
    "        while left < right:\n",
    "            char_list[left], char_list[right] = char_list[right], char_list[left]\n",
    "            left += 1\n",
    "            right -= 1\n",
    "\n",
    "    return ''.join(char_list)\n",
    "\n",
    "\n",
    "s = \"abcdefg\"\n",
    "k = 2\n",
    "print(reverseStr(s, k))"
   ]
  },
  {
   "cell_type": "code",
   "execution_count": 6,
   "metadata": {},
   "outputs": [
    {
     "name": "stdout",
     "output_type": "stream",
     "text": [
      "True\n"
     ]
    }
   ],
   "source": [
    "def rotateString(s, goal):\n",
    "    if len(s) != len(goal):\n",
    "        return False\n",
    "\n",
    "    s_double = s + s\n",
    "    if goal in s_double:\n",
    "        return True\n",
    "\n",
    "    return False\n",
    "\n",
    "s = \"abcde\"\n",
    "goal = \"cdeab\"\n",
    "print(rotateString(s, goal)) "
   ]
  },
  {
   "cell_type": "code",
   "execution_count": 7,
   "metadata": {},
   "outputs": [
    {
     "name": "stdout",
     "output_type": "stream",
     "text": [
      "True\n"
     ]
    }
   ],
   "source": [
    "def processString(s):\n",
    "    processed = []\n",
    "    for char in s:\n",
    "        if char != '#':\n",
    "            processed.append(char)\n",
    "        elif processed:\n",
    "            processed.pop()\n",
    "    return processed\n",
    "\n",
    "def backspaceCompare(s, t):\n",
    "    processed_s = processString(s)\n",
    "    processed_t = processString(t)\n",
    "    return processed_s == processed_t\n",
    "\n",
    "\n",
    "s = \"ab#c\"\n",
    "t = \"ad#c\"\n",
    "print(backspaceCompare(s, t))"
   ]
  },
  {
   "cell_type": "code",
   "execution_count": 8,
   "metadata": {},
   "outputs": [
    {
     "name": "stdout",
     "output_type": "stream",
     "text": [
      "True\n"
     ]
    }
   ],
   "source": [
    "def checkStraightLine(coordinates):\n",
    "    if len(coordinates) <= 2:\n",
    "        return True\n",
    "    \n",
    "    x1, y1 = coordinates[0]\n",
    "    x2, y2 = coordinates[1]\n",
    "    \n",
    "    for i in range(2, len(coordinates)):\n",
    "        x, y = coordinates[i]\n",
    "        \n",
    "        # Check if the current point has the same slope as the previous points\n",
    "        if (y2 - y1) * (x - x1) != (y - y1) * (x2 - x1):\n",
    "            return False\n",
    "        \n",
    "    return True\n",
    "\n",
    "\n",
    "coordinates = [[1,2],[2,3],[3,4],[4,5],[5,6],[6,7]]\n",
    "result = checkStraightLine(coordinates)\n",
    "print(result)"
   ]
  },
  {
   "cell_type": "code",
   "execution_count": null,
   "metadata": {},
   "outputs": [],
   "source": []
  },
  {
   "cell_type": "code",
   "execution_count": null,
   "metadata": {},
   "outputs": [],
   "source": []
  },
  {
   "cell_type": "code",
   "execution_count": null,
   "metadata": {},
   "outputs": [],
   "source": []
  },
  {
   "cell_type": "code",
   "execution_count": null,
   "metadata": {},
   "outputs": [],
   "source": []
  }
 ],
 "metadata": {
  "kernelspec": {
   "display_name": "Python 3",
   "language": "python",
   "name": "python3"
  },
  "language_info": {
   "codemirror_mode": {
    "name": "ipython",
    "version": 3
   },
   "file_extension": ".py",
   "mimetype": "text/x-python",
   "name": "python",
   "nbconvert_exporter": "python",
   "pygments_lexer": "ipython3",
   "version": "3.10.2"
  },
  "orig_nbformat": 4
 },
 "nbformat": 4,
 "nbformat_minor": 2
}
